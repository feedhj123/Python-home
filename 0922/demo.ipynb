{
 "cells": [
  {
   "cell_type": "code",
   "execution_count": 20,
   "metadata": {},
   "outputs": [
    {
     "name": "stdout",
     "output_type": "stream",
     "text": [
      "{'employeenumber': 5, 'glevel': 3, 'hlevel': 3, 'bonus': 3000}\n",
      "{'employeenumber': 6, 'glevel': 7, 'hlevel': 7, 'bonus': 3500}\n"
     ]
    }
   ],
   "source": [
    "def input_employee_data():\n",
    "    employees = []  # 사원 정보를 저장할 리스트\n",
    "\n",
    "    while True:\n",
    "        employee = {}  # 각 사원의 정보를 저장할 딕셔너리 생성\n",
    "        try:\n",
    "            employeenumber = int(input(\"사원번호 : \"))\n",
    "            if not (1 <= employeenumber < 100):\n",
    "                raise ValueError(\"Error: please input an integer between 1 and 99\")\n",
    "            \n",
    "            glevel = int(input(\"급 : \"))\n",
    "            if not (1 <= glevel < 10):\n",
    "                raise ValueError(\"Error: please input an integer between 1 and 9\")\n",
    "            \n",
    "            hlevel = int(input(\"호 : \"))\n",
    "            if not (1 <= hlevel < 10):\n",
    "                raise ValueError(\"Error: please input an integer between 1 and 9\")\n",
    "            \n",
    "            bonus = int(input(\"수당 : \"))\n",
    "            \n",
    "            employee[\"employeenumber\"] = employeenumber\n",
    "            employee[\"glevel\"] = glevel\n",
    "            employee[\"hlevel\"] = hlevel\n",
    "            employee[\"bonus\"] = bonus\n",
    "\n",
    "            employees.append(employee)  # 딕셔너리를 리스트에 추가\n",
    "            \n",
    "            another = input(\"더 입력하시겠습니까? (y/n): \")\n",
    "            if another.lower() != 'y':\n",
    "                break  # 입력 중단\n",
    "            \n",
    "        except ValueError as e:\n",
    "            print(e)\n",
    "    \n",
    "    return employees\n",
    "\n",
    "# 여러 명의 사원 정보 입력받기\n",
    "employee_list = input_employee_data()\n",
    "\n",
    "# 입력받은 사원 정보 출력\n",
    "for employee in employee_list:\n",
    "    print(employee)\n",
    "\n",
    "\n",
    "\n"
   ]
  }
 ],
 "metadata": {
  "kernelspec": {
   "display_name": "PythonHome",
   "language": "python",
   "name": "python3"
  },
  "language_info": {
   "codemirror_mode": {
    "name": "ipython",
    "version": 3
   },
   "file_extension": ".py",
   "mimetype": "text/x-python",
   "name": "python",
   "nbconvert_exporter": "python",
   "pygments_lexer": "ipython3",
   "version": "3.11.5"
  },
  "orig_nbformat": 4
 },
 "nbformat": 4,
 "nbformat_minor": 2
}
